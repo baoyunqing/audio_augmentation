{
 "cells": [
  {
   "cell_type": "code",
   "execution_count": 1,
   "id": "438f7a10",
   "metadata": {},
   "outputs": [
    {
     "name": "stdout",
     "output_type": "stream",
     "text": [
      "CER:  19.5876\n",
      "WER:  30.0\n"
     ]
    }
   ],
   "source": [
    "import fastwer\n",
    "\n",
    "ref = 'إذا أنت أكرمت الكريم ملكته وإن أنت أكرمت اللئيم تمردا'\n",
    "output = 'إذا أنت أكرمت الكريم لكته وإن أنت أكرمت الل'\n",
    "\n",
    "# Obtain Sentence-Level Character Error Rate (CER)\n",
    "CER = fastwer.score_sent(output, ref, char_level=True)\n",
    "\n",
    "WER = fastwer.score_sent(output, ref)\n",
    "s\n",
    "print('CER: ',CER)\n",
    "print('WER: ',WER)"
   ]
  }
 ],
 "metadata": {
  "kernelspec": {
   "display_name": "Python 3",
   "language": "python",
   "name": "python3"
  },
  "language_info": {
   "codemirror_mode": {
    "name": "ipython",
    "version": 3
   },
   "file_extension": ".py",
   "mimetype": "text/x-python",
   "name": "python",
   "nbconvert_exporter": "python",
   "pygments_lexer": "ipython3",
   "version": "3.6.13"
  }
 },
 "nbformat": 4,
 "nbformat_minor": 5
}
