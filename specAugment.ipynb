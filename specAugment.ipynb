{
 "cells": [
  {
   "cell_type": "code",
   "execution_count": 33,
   "id": "5815673c",
   "metadata": {
    "scrolled": true
   },
   "outputs": [
    {
     "name": "stdout",
     "output_type": "stream",
     "text": [
      "(256, 770)\n"
     ]
    },
    {
     "name": "stderr",
     "output_type": "stream",
     "text": [
      "2022-06-07 10:55:35.321037: I tensorflow/core/common_runtime/gpu/gpu_device.cc:1159] Device interconnect StreamExecutor with strength 1 edge matrix:\n",
      "2022-06-07 10:55:35.321059: I tensorflow/core/common_runtime/gpu/gpu_device.cc:1165]      \n"
     ]
    },
    {
     "name": "stdout",
     "output_type": "stream",
     "text": [
      "original signal:  [0.0000000e+00 0.0000000e+00 0.0000000e+00 ... 3.4246252e-05 1.6746653e-05\n",
      " 0.0000000e+00]\n",
      "wrapped signal:  [-4.9112579e-05 -9.0957205e-05 -5.3661006e-05 ...  2.3153911e-05\n",
      "  4.5015604e-05  9.6740259e-05]\n"
     ]
    }
   ],
   "source": [
    "import librosa\n",
    "import tensorflow as tf\n",
    "import soundfile as sf\n",
    "from specAugment import spec_augment_tensorflow\n",
    "\n",
    "audio_path = 'common_voice_ar_19058307.wav'\n",
    "\n",
    "audio, sr = librosa.load(audio_path)\n",
    "mel_spectrogram = librosa.feature.melspectrogram(y=audio,\n",
    "                                                     sr=sr,\n",
    "                                                     n_mels=256,\n",
    "                                                     hop_length=128,\n",
    "                                                     fmax=8000)\n",
    "\n",
    "shape = mel_spectrogram.shape\n",
    "print(shape)\n",
    "#mel_spectrogram = np.reshape(mel_spectrogram, (1,shape[0], shape[1]))\n",
    "warped_masked_spectrogram = spec_augment_tensorflow.spec_augment(mel_spectrogram=mel_spectrogram)\n",
    "#print(warped_masked_spectrogram)\n",
    "\n",
    "warped_signal = librosa.feature.inverse.mel_to_stft(warped_masked_spectrogram)\n",
    "y = librosa.griffinlim(warped_signal)\n",
    "print('original signal: ', audio)\n",
    "print('wrapped signal: ', y)\n",
    "\n",
    "sf.write('warped_signal.wav', y ,sr)\n"
   ]
  }
 ],
 "metadata": {
  "kernelspec": {
   "display_name": "Python 3 (ipykernel)",
   "language": "python",
   "name": "python3"
  },
  "language_info": {
   "codemirror_mode": {
    "name": "ipython",
    "version": 3
   },
   "file_extension": ".py",
   "mimetype": "text/x-python",
   "name": "python",
   "nbconvert_exporter": "python",
   "pygments_lexer": "ipython3",
   "version": "3.7.13"
  }
 },
 "nbformat": 4,
 "nbformat_minor": 5
}
